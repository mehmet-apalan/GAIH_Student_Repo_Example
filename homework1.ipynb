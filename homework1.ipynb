{
  "nbformat": 4,
  "nbformat_minor": 0,
  "metadata": {
    "colab": {
      "name": "homework1.ipynb",
      "provenance": [],
      "collapsed_sections": [],
      "authorship_tag": "ABX9TyNQputhXwz2gtEvx59Ei+xd",
      "include_colab_link": true
    },
    "kernelspec": {
      "name": "python3",
      "display_name": "Python 3"
    }
  },
  "cells": [
    {
      "cell_type": "markdown",
      "metadata": {
        "id": "view-in-github",
        "colab_type": "text"
      },
      "source": [
        "<a href=\"https://colab.research.google.com/github/mehmet-apalan/GlobalAIHubMLCourse/blob/main/homework1.ipynb\" target=\"_parent\"><img src=\"https://colab.research.google.com/assets/colab-badge.svg\" alt=\"Open In Colab\"/></a>"
      ]
    },
    {
      "cell_type": "markdown",
      "metadata": {
        "id": "4v9h0xuKCP-R"
      },
      "source": [
        "## **HOMEWORK 1**"
      ]
    },
    {
      "cell_type": "markdown",
      "metadata": {
        "id": "o44_4kBNCYNU"
      },
      "source": [
        "1) Two definitions of Machine Learning are offered. First, \"The field of study that gives computers the ability to learn without being explicitly programmed.\". This definition belongs to Arthur Samuel but this is an olderand informal definition. Second, \"A computer program is said to learn from experience E with respect to some class of tasks T and performance measure P, if its performance at tasks in T, as measured by P, improves with experience E.\". This definition also belongs to Tom Mitchell and this is more modern definition."
      ]
    },
    {
      "cell_type": "markdown",
      "metadata": {
        "id": "_0C_h6aoDhdG"
      },
      "source": [
        "2) There are lots of differences between supervised and unsupervised learning. In supervised learning, we are given a data set and already know what our correct output should look like, having the idea that there is a relationship between the input and the output. Unsupervised learning, on the other hand, allows us to approach problems with little or no idea what our results should look like. We can derive structure from data where we don't necessarily know the effect of the variables. Supervised learning algorithms are trained using labeled data. Unsupervised learning algorithms are trained using unlabeled data. Supervised learning model takes direct feedback to check if it is predicting correct output or not. Unsupervised learning model does not take any feedback. These are the main differences between supervised and unsupervised learning. Let's give three examples of these. For supervised learning,\r\n",
        "1. Given data about the size of houses on the real estate market, try to predict their price. Price as a function of size is a continuous output, so this is a regression problem.\r\n",
        "2. Given a picture of Male/Female, We have to predict his/her age on the basis of given picture. Also, this example is a regression example.\r\n",
        "3. Given a picture of Male/Female, we have to predict Whether He/She is of High school, College, Graduate age. And also, this is a classification example.\r\n"
      ]
    },
    {
      "cell_type": "markdown",
      "metadata": {
        "id": "GZ3ZW4aF-2rZ"
      },
      "source": [
        "For unsupervised learning,\r\n",
        "1. Take a collection of 1000 essays written on the US Economy, and find a way to automatically group these essays into a small number that are somehow similar or related by different variables, such as word frequency, sentence length, page count, and so on.\r\n",
        "2. The \"Cocktail Party Algorithm\",\r\n",
        "3. Anomaly detection (for example, to detect bot activity)"
      ]
    },
    {
      "cell_type": "markdown",
      "metadata": {
        "id": "9qNMeapnJj1Y"
      },
      "source": [
        "3) Validation set is used to select proper parameters of the system. It is part of the training set. Test set is just used to test and say the accuracy of the system. So, alidation set is used for tuning the parameters of a model. Test set is used for performance evaluation. Validation set is usually used for parameter selection and to avoild overfitting. If your model is non-linear (like NN) is trained on a training set only, it is very likely to get 100% accuracy and overfit, thus get very poor performance on test set. Thus a validation set, which is independant from the training set, is  used for parameter selection. On the contrary, test test is only used to test the performance of a trained model. "
      ]
    },
    {
      "cell_type": "markdown",
      "metadata": {
        "id": "3LFGQ6ARNpiR"
      },
      "source": [
        "4) There are 4 main preprocessing steps and each step has also some steps. These main steps are:\r\n",
        "1. Data quality assessment\r\n",
        "2. Data cleaning\r\n",
        "3. Data transformation\r\n",
        "4. Data cleaning"
      ]
    },
    {
      "cell_type": "markdown",
      "metadata": {
        "id": "5CLNs1bt_NaQ"
      },
      "source": [
        "**Data quality assessment:**\r\n",
        "* Mismatching in data types\r\n",
        "* Different dimensions of data arrays\r\n",
        "* Mixture of data values\r\n",
        "* Outliers in the dataset\r\n",
        "* Missing data\r\n",
        "\r\n",
        "\r\n"
      ]
    },
    {
      "cell_type": "markdown",
      "metadata": {
        "id": "Jls4uunO_xOU"
      },
      "source": [
        "**Data cleaning:**\r\n",
        "* Missing data(Ignore the tuplet and fill the missing values)\r\n",
        "* Noisy data(Binning method, Regression and Clustering)"
      ]
    },
    {
      "cell_type": "markdown",
      "metadata": {
        "id": "B14shC47AXLd"
      },
      "source": [
        "**Data transformation:**\r\n",
        "* Normalization\r\n",
        "* Atribute selection\r\n",
        "* Discretization\r\n",
        "* Concept hiererchy generation"
      ]
    },
    {
      "cell_type": "markdown",
      "metadata": {
        "id": "pQ_k8SkAAxQv"
      },
      "source": [
        "**Data reduction:**\r\n",
        "* Data cube aggregation\r\n",
        "* Attribute subset selection\r\n",
        "* Numerosity reduction\r\n",
        "* Dimensionlity reduction"
      ]
    },
    {
      "cell_type": "markdown",
      "metadata": {
        "id": "1vDt3m1rBSdU"
      },
      "source": [
        "By preprocessing data, we make our database more accurate. we boost consistency. we make the database more complete and we smooth the data"
      ]
    },
    {
      "cell_type": "markdown",
      "metadata": {
        "id": "IcJGG-uLBwjc"
      },
      "source": [
        "5) A discrete random variable is one that has a ﬁnite or countably infinite number of states. A continuous random variable is associated with a real value. So, continuous variables are must be integer but discrete variables must not, they can be any numerical value. A probability distribution over discrete variables can be explained using a probability mass function (PMF). When working with continuous random variables, we explain probability distributions using a probability density function (PDF) instead of a probability mass function."
      ]
    },
    {
      "cell_type": "markdown",
      "metadata": {
        "id": "T3hFMyr2DN03"
      },
      "source": [
        "6) This is a histogram plot and the variable is a continuous. This is a probability distribution function.To preprocess is, we can use of the some pdf methods such as Chi-square statistics, Kolmogorov–Smirnov test, QQ plots, etc."
      ]
    }
  ]
}